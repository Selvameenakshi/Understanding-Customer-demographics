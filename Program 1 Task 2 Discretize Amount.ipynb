{
 "cells": [
  {
   "cell_type": "markdown",
   "metadata": {},
   "source": [
    "### Task: Discretize Amount - Does it have an impact?"
   ]
  },
  {
   "cell_type": "markdown",
   "metadata": {},
   "source": [
    "### Importing libraries"
   ]
  },
  {
   "cell_type": "code",
   "execution_count": 2,
   "metadata": {},
   "outputs": [
    {
     "name": "stderr",
     "output_type": "stream",
     "text": [
      "C:\\Users\\PriyaSriram\\Anaconda3\\envs\\DataScience\\lib\\site-packages\\sklearn\\externals\\six.py:28: FutureWarning: The module is deprecated in version 0.21 and will be removed in version 0.23 since we've dropped support for Python 2.7. Please rely on the official version of six (https://pypi.org/project/six/).\n",
      "  warnings.warn(\"The module is deprecated in version 0.21 and will be removed \"\n"
     ]
    }
   ],
   "source": [
    "import pandas as pd\n",
    "import numpy as np\n",
    "import matplotlib.pyplot as plt\n",
    "import seaborn as sns\n",
    "\n",
    "from sklearn.feature_selection import SelectKBest,SelectFromModel\n",
    "from sklearn.feature_selection import chi2,f_classif,mutual_info_classif\n",
    "\n",
    "\n",
    "from sklearn.model_selection import train_test_split\n",
    "from sklearn.model_selection import cross_val_score,GridSearchCV,RandomizedSearchCV\n",
    "from sklearn.pipeline import Pipeline\n",
    "from sklearn import decomposition, datasets\n",
    "from sklearn.preprocessing import StandardScaler\n",
    "\n",
    "from sklearn import metrics\n",
    "from sklearn.metrics import accuracy_score,precision_score,recall_score\n",
    "from sklearn.metrics import classification_report, confusion_matrix\n",
    "\n",
    "from sklearn.neighbors import KNeighborsClassifier\n",
    "from sklearn.ensemble import RandomForestClassifier, GradientBoostingClassifier\n",
    "from sklearn.ensemble import ExtraTreesClassifier\n",
    "\n",
    "\n",
    "from sklearn import tree\n",
    "from sklearn.tree import DecisionTreeClassifier\n",
    "from sklearn.tree import export_graphviz\n",
    "\n",
    "from IPython.display import Image \n",
    "from sklearn.externals.six import StringIO \n",
    "import pydotplus\n",
    "\n",
    "import graphviz\n",
    "from graphviz import Source\n",
    "\n",
    "from feature_engine import discretisers as dsc\n",
    "\n",
    "%matplotlib inline\n"
   ]
  },
  {
   "cell_type": "markdown",
   "metadata": {},
   "source": [
    "### Read data into Pandas Dataframe"
   ]
  },
  {
   "cell_type": "code",
   "execution_count": 3,
   "metadata": {},
   "outputs": [
    {
     "data": {
      "text/html": [
       "<div>\n",
       "<style scoped>\n",
       "    .dataframe tbody tr th:only-of-type {\n",
       "        vertical-align: middle;\n",
       "    }\n",
       "\n",
       "    .dataframe tbody tr th {\n",
       "        vertical-align: top;\n",
       "    }\n",
       "\n",
       "    .dataframe thead th {\n",
       "        text-align: right;\n",
       "    }\n",
       "</style>\n",
       "<table border=\"1\" class=\"dataframe\">\n",
       "  <thead>\n",
       "    <tr style=\"text-align: right;\">\n",
       "      <th></th>\n",
       "      <th>in-store</th>\n",
       "      <th>age</th>\n",
       "      <th>items</th>\n",
       "      <th>amount</th>\n",
       "      <th>region</th>\n",
       "    </tr>\n",
       "  </thead>\n",
       "  <tbody>\n",
       "    <tr>\n",
       "      <th>0</th>\n",
       "      <td>0</td>\n",
       "      <td>37</td>\n",
       "      <td>4</td>\n",
       "      <td>281.0300</td>\n",
       "      <td>2</td>\n",
       "    </tr>\n",
       "    <tr>\n",
       "      <th>1</th>\n",
       "      <td>0</td>\n",
       "      <td>35</td>\n",
       "      <td>2</td>\n",
       "      <td>219.5100</td>\n",
       "      <td>2</td>\n",
       "    </tr>\n",
       "    <tr>\n",
       "      <th>2</th>\n",
       "      <td>1</td>\n",
       "      <td>45</td>\n",
       "      <td>3</td>\n",
       "      <td>1525.7000</td>\n",
       "      <td>4</td>\n",
       "    </tr>\n",
       "    <tr>\n",
       "      <th>3</th>\n",
       "      <td>1</td>\n",
       "      <td>46</td>\n",
       "      <td>3</td>\n",
       "      <td>715.2500</td>\n",
       "      <td>3</td>\n",
       "    </tr>\n",
       "    <tr>\n",
       "      <th>4</th>\n",
       "      <td>1</td>\n",
       "      <td>33</td>\n",
       "      <td>4</td>\n",
       "      <td>1937.5000</td>\n",
       "      <td>1</td>\n",
       "    </tr>\n",
       "    <tr>\n",
       "      <th>5</th>\n",
       "      <td>0</td>\n",
       "      <td>24</td>\n",
       "      <td>3</td>\n",
       "      <td>1314.2000</td>\n",
       "      <td>4</td>\n",
       "    </tr>\n",
       "    <tr>\n",
       "      <th>6</th>\n",
       "      <td>0</td>\n",
       "      <td>43</td>\n",
       "      <td>6</td>\n",
       "      <td>8.5472</td>\n",
       "      <td>2</td>\n",
       "    </tr>\n",
       "    <tr>\n",
       "      <th>7</th>\n",
       "      <td>1</td>\n",
       "      <td>66</td>\n",
       "      <td>5</td>\n",
       "      <td>819.9800</td>\n",
       "      <td>3</td>\n",
       "    </tr>\n",
       "    <tr>\n",
       "      <th>8</th>\n",
       "      <td>1</td>\n",
       "      <td>51</td>\n",
       "      <td>5</td>\n",
       "      <td>908.3100</td>\n",
       "      <td>1</td>\n",
       "    </tr>\n",
       "    <tr>\n",
       "      <th>9</th>\n",
       "      <td>1</td>\n",
       "      <td>47</td>\n",
       "      <td>3</td>\n",
       "      <td>767.5400</td>\n",
       "      <td>1</td>\n",
       "    </tr>\n",
       "  </tbody>\n",
       "</table>\n",
       "</div>"
      ],
      "text/plain": [
       "   in-store  age  items     amount  region\n",
       "0         0   37      4   281.0300       2\n",
       "1         0   35      2   219.5100       2\n",
       "2         1   45      3  1525.7000       4\n",
       "3         1   46      3   715.2500       3\n",
       "4         1   33      4  1937.5000       1\n",
       "5         0   24      3  1314.2000       4\n",
       "6         0   43      6     8.5472       2\n",
       "7         1   66      5   819.9800       3\n",
       "8         1   51      5   908.3100       1\n",
       "9         1   47      3   767.5400       1"
      ]
     },
     "execution_count": 3,
     "metadata": {},
     "output_type": "execute_result"
    }
   ],
   "source": [
    "demo_data = pd.read_csv(\"Demographic_Data.csv\")\n",
    "demo_data.head(10)"
   ]
  },
  {
   "cell_type": "markdown",
   "metadata": {},
   "source": [
    "### 1. Choose input and target variable"
   ]
  },
  {
   "cell_type": "code",
   "execution_count": 4,
   "metadata": {},
   "outputs": [],
   "source": [
    "X = demo_data[['in-store', 'age', 'items','amount']]\n",
    "y = demo_data['region']\n"
   ]
  },
  {
   "cell_type": "markdown",
   "metadata": {},
   "source": [
    "### 2. Discretize ' amount' -input variable using DecisionTreeDiscretiser"
   ]
  },
  {
   "cell_type": "code",
   "execution_count": 6,
   "metadata": {},
   "outputs": [],
   "source": [
    "# set up the discretisation transformer\n",
    "disc = dsc.DecisionTreeDiscretiser(cv=3,\n",
    "                              scoring='accuracy',\n",
    "                              variables=['amount'],\n",
    "                              regression=False)"
   ]
  },
  {
   "cell_type": "markdown",
   "metadata": {},
   "source": [
    "### 3. Transform 'amount' to discrete variable"
   ]
  },
  {
   "cell_type": "code",
   "execution_count": 7,
   "metadata": {},
   "outputs": [
    {
     "data": {
      "text/html": [
       "<div>\n",
       "<style scoped>\n",
       "    .dataframe tbody tr th:only-of-type {\n",
       "        vertical-align: middle;\n",
       "    }\n",
       "\n",
       "    .dataframe tbody tr th {\n",
       "        vertical-align: top;\n",
       "    }\n",
       "\n",
       "    .dataframe thead th {\n",
       "        text-align: right;\n",
       "    }\n",
       "</style>\n",
       "<table border=\"1\" class=\"dataframe\">\n",
       "  <thead>\n",
       "    <tr style=\"text-align: right;\">\n",
       "      <th></th>\n",
       "      <th>in-store</th>\n",
       "      <th>age</th>\n",
       "      <th>items</th>\n",
       "      <th>amount</th>\n",
       "    </tr>\n",
       "  </thead>\n",
       "  <tbody>\n",
       "    <tr>\n",
       "      <th>0</th>\n",
       "      <td>0</td>\n",
       "      <td>37</td>\n",
       "      <td>4</td>\n",
       "      <td>0.520025</td>\n",
       "    </tr>\n",
       "    <tr>\n",
       "      <th>1</th>\n",
       "      <td>0</td>\n",
       "      <td>35</td>\n",
       "      <td>2</td>\n",
       "      <td>0.520025</td>\n",
       "    </tr>\n",
       "    <tr>\n",
       "      <th>2</th>\n",
       "      <td>1</td>\n",
       "      <td>45</td>\n",
       "      <td>3</td>\n",
       "      <td>0.000000</td>\n",
       "    </tr>\n",
       "    <tr>\n",
       "      <th>3</th>\n",
       "      <td>1</td>\n",
       "      <td>46</td>\n",
       "      <td>3</td>\n",
       "      <td>0.000000</td>\n",
       "    </tr>\n",
       "    <tr>\n",
       "      <th>4</th>\n",
       "      <td>1</td>\n",
       "      <td>33</td>\n",
       "      <td>4</td>\n",
       "      <td>0.000000</td>\n",
       "    </tr>\n",
       "    <tr>\n",
       "      <th>...</th>\n",
       "      <td>...</td>\n",
       "      <td>...</td>\n",
       "      <td>...</td>\n",
       "      <td>...</td>\n",
       "    </tr>\n",
       "    <tr>\n",
       "      <th>79995</th>\n",
       "      <td>1</td>\n",
       "      <td>71</td>\n",
       "      <td>3</td>\n",
       "      <td>0.000000</td>\n",
       "    </tr>\n",
       "    <tr>\n",
       "      <th>79996</th>\n",
       "      <td>0</td>\n",
       "      <td>59</td>\n",
       "      <td>7</td>\n",
       "      <td>0.000000</td>\n",
       "    </tr>\n",
       "    <tr>\n",
       "      <th>79997</th>\n",
       "      <td>0</td>\n",
       "      <td>54</td>\n",
       "      <td>1</td>\n",
       "      <td>0.520025</td>\n",
       "    </tr>\n",
       "    <tr>\n",
       "      <th>79998</th>\n",
       "      <td>1</td>\n",
       "      <td>49</td>\n",
       "      <td>4</td>\n",
       "      <td>0.520025</td>\n",
       "    </tr>\n",
       "    <tr>\n",
       "      <th>79999</th>\n",
       "      <td>1</td>\n",
       "      <td>30</td>\n",
       "      <td>1</td>\n",
       "      <td>0.000000</td>\n",
       "    </tr>\n",
       "  </tbody>\n",
       "</table>\n",
       "<p>80000 rows × 4 columns</p>\n",
       "</div>"
      ],
      "text/plain": [
       "       in-store  age  items    amount\n",
       "0             0   37      4  0.520025\n",
       "1             0   35      2  0.520025\n",
       "2             1   45      3  0.000000\n",
       "3             1   46      3  0.000000\n",
       "4             1   33      4  0.000000\n",
       "...         ...  ...    ...       ...\n",
       "79995         1   71      3  0.000000\n",
       "79996         0   59      7  0.000000\n",
       "79997         0   54      1  0.520025\n",
       "79998         1   49      4  0.520025\n",
       "79999         1   30      1  0.000000\n",
       "\n",
       "[80000 rows x 4 columns]"
      ]
     },
     "execution_count": 7,
     "metadata": {},
     "output_type": "execute_result"
    }
   ],
   "source": [
    "# fit the transformer\n",
    "disc.fit(X,y)\n",
    "\n",
    "X_disc = disc.transform(X)\n",
    "X_disc\n"
   ]
  },
  {
   "cell_type": "markdown",
   "metadata": {},
   "source": [
    "### 4. Train/test Split"
   ]
  },
  {
   "cell_type": "code",
   "execution_count": 8,
   "metadata": {},
   "outputs": [],
   "source": [
    "X_train, X_test, y_train, y_test = train_test_split(X_disc, y, test_size = .30, random_state=123,stratify=y)\n"
   ]
  },
  {
   "cell_type": "markdown",
   "metadata": {},
   "source": [
    "### 4. Calculate Feature importance"
   ]
  },
  {
   "cell_type": "code",
   "execution_count": 9,
   "metadata": {},
   "outputs": [
    {
     "data": {
      "image/png": "[encoded data removed]",
      "text/plain": [
       "<Figure size 432x288 with 1 Axes>"
      ]
     },
     "metadata": {
      "needs_background": "light"
     },
     "output_type": "display_data"
    }
   ],
   "source": [
    "clf = ExtraTreesClassifier(n_estimators=100)\n",
    "clf = clf.fit(X_train, y_train)\n",
    "clf.feature_importances_  \n",
    " \n",
    "# Plot graph of feature importances for better visualization\n",
    "feat_importances = pd.Series(clf.feature_importances_, index=X_train.columns)\n",
    "feat_importances.nlargest(10).plot(kind='bar')\n",
    "\n",
    "# Labels for the plot\n",
    "plt.xlabel('Feature Labels') \n",
    "plt.ylabel('Feature Importances') \n",
    "plt.title('Comparison of different Feature Importances') \n",
    "plt.show()"
   ]
  },
  {
   "cell_type": "markdown",
   "metadata": {},
   "source": [
    "### 5. Drop irrelavant feature from training and test data"
   ]
  },
  {
   "cell_type": "code",
   "execution_count": 10,
   "metadata": {},
   "outputs": [
    {
     "data": {
      "text/html": [
       "<div>\n",
       "<style scoped>\n",
       "    .dataframe tbody tr th:only-of-type {\n",
       "        vertical-align: middle;\n",
       "    }\n",
       "\n",
       "    .dataframe tbody tr th {\n",
       "        vertical-align: top;\n",
       "    }\n",
       "\n",
       "    .dataframe thead th {\n",
       "        text-align: right;\n",
       "    }\n",
       "</style>\n",
       "<table border=\"1\" class=\"dataframe\">\n",
       "  <thead>\n",
       "    <tr style=\"text-align: right;\">\n",
       "      <th></th>\n",
       "      <th>in-store</th>\n",
       "      <th>age</th>\n",
       "      <th>amount</th>\n",
       "    </tr>\n",
       "  </thead>\n",
       "  <tbody>\n",
       "    <tr>\n",
       "      <th>77472</th>\n",
       "      <td>0</td>\n",
       "      <td>51</td>\n",
       "      <td>0.520025</td>\n",
       "    </tr>\n",
       "    <tr>\n",
       "      <th>22247</th>\n",
       "      <td>0</td>\n",
       "      <td>79</td>\n",
       "      <td>0.520025</td>\n",
       "    </tr>\n",
       "    <tr>\n",
       "      <th>39461</th>\n",
       "      <td>1</td>\n",
       "      <td>21</td>\n",
       "      <td>0.520025</td>\n",
       "    </tr>\n",
       "    <tr>\n",
       "      <th>60404</th>\n",
       "      <td>1</td>\n",
       "      <td>31</td>\n",
       "      <td>0.000000</td>\n",
       "    </tr>\n",
       "    <tr>\n",
       "      <th>68248</th>\n",
       "      <td>1</td>\n",
       "      <td>32</td>\n",
       "      <td>0.520025</td>\n",
       "    </tr>\n",
       "  </tbody>\n",
       "</table>\n",
       "</div>"
      ],
      "text/plain": [
       "       in-store  age    amount\n",
       "77472         0   51  0.520025\n",
       "22247         0   79  0.520025\n",
       "39461         1   21  0.520025\n",
       "60404         1   31  0.000000\n",
       "68248         1   32  0.520025"
      ]
     },
     "execution_count": 10,
     "metadata": {},
     "output_type": "execute_result"
    }
   ],
   "source": [
    "X_train.drop('items',axis=1).head(5)\n",
    "X_test.drop ('items',axis=1).head(5)"
   ]
  },
  {
   "cell_type": "markdown",
   "metadata": {},
   "source": [
    "### 6. Choose a model using cross_val_score"
   ]
  },
  {
   "cell_type": "code",
   "execution_count": 11,
   "metadata": {},
   "outputs": [
    {
     "name": "stdout",
     "output_type": "stream",
     "text": [
      "Random Forest Classifier 0.6120749999999999\n",
      "Decision Tree Classifier 0.6109500000000001\n",
      "K nearest neighbors Classifier 0.5834625000000001\n"
     ]
    }
   ],
   "source": [
    "# Compare all the three algorithms \n",
    "algos_Class = []\n",
    "algos_Class.append(('Random Forest Classifier', RandomForestClassifier()))\n",
    "algos_Class.append(('Decision Tree Classifier', DecisionTreeClassifier()))\n",
    "algos_Class.append(('K nearest neighbors Classifier',KNeighborsClassifier()))\n",
    "\n",
    "# To build and assess both models, we create an empty list to store the results and another to hold the name\n",
    "# of each algorithm so we can easily print out the results and keep them separated as follows\n",
    "results = []\n",
    "names = []\n",
    "for name, model in algos_Class:\n",
    "    result = cross_val_score(model, X_disc,y, cv=5, scoring='accuracy')\n",
    "    names.append(name)\n",
    "    results.append(result)\n",
    "    \n",
    "for i in range(len(names)):\n",
    "    print (names[i],results[i].mean())"
   ]
  },
  {
   "cell_type": "markdown",
   "metadata": {},
   "source": [
    "###  61% accuracy on Cross_Validated data"
   ]
  },
  {
   "cell_type": "markdown",
   "metadata": {},
   "source": [
    "### 7. Predict test data"
   ]
  },
  {
   "cell_type": "code",
   "execution_count": 12,
   "metadata": {},
   "outputs": [
    {
     "name": "stdout",
     "output_type": "stream",
     "text": [
      "Accuracy for Decision Tree: 0.610625\n",
      "Confusion matrix:\n",
      " [[2073    0  904 1823]\n",
      " [   0 6000    0    0]\n",
      " [1527  238 1068 2567]\n",
      " [1501  446  339 5514]]\n",
      "              precision    recall  f1-score   support\n",
      "\n",
      "           1       0.41      0.43      0.42      4800\n",
      "           2       0.90      1.00      0.95      6000\n",
      "           3       0.46      0.20      0.28      5400\n",
      "           4       0.56      0.71      0.62      7800\n",
      "\n",
      "    accuracy                           0.61     24000\n",
      "   macro avg       0.58      0.58      0.57     24000\n",
      "weighted avg       0.59      0.61      0.59     24000\n",
      "\n",
      "Accuracy for Random Forest: 0.6107083333333333\n",
      "Confusion matrix:\n",
      " [[1878    0 1025 1897]\n",
      " [   0 6000    0    0]\n",
      " [1392  238 1137 2633]\n",
      " [1361  446  351 5642]]\n",
      "              precision    recall  f1-score   support\n",
      "\n",
      "           1       0.41      0.39      0.40      4800\n",
      "           2       0.90      1.00      0.95      6000\n",
      "           3       0.45      0.21      0.29      5400\n",
      "           4       0.55      0.72      0.63      7800\n",
      "\n",
      "    accuracy                           0.61     24000\n",
      "   macro avg       0.58      0.58      0.56     24000\n",
      "weighted avg       0.59      0.61      0.58     24000\n",
      "\n"
     ]
    }
   ],
   "source": [
    "y_pred = DecisionTreeClassifier().fit(X_train,y_train).predict(X_test)\n",
    "print(\"Accuracy for Decision Tree:\",accuracy_score(y_test, y_pred))\n",
    "print(\"Confusion matrix:\\n\" ,confusion_matrix(y_test, y_pred))\n",
    "print(classification_report(y_test, y_pred))\n",
    "\n",
    "y_pred = RandomForestClassifier().fit(X_train,y_train).predict(X_test)\n",
    "print(\"Accuracy for Random Forest:\",accuracy_score(y_test, y_pred))\n",
    "print(\"Confusion matrix:\\n\" ,confusion_matrix(y_test, y_pred))\n",
    "print(classification_report(y_test, y_pred))"
   ]
  },
  {
   "cell_type": "markdown",
   "metadata": {},
   "source": [
    "### 61.2% accuracy on Test data"
   ]
  },
  {
   "cell_type": "markdown",
   "metadata": {},
   "source": [
    "### 8. Tuning hyperparameters of Decision tree"
   ]
  },
  {
   "cell_type": "code",
   "execution_count": 13,
   "metadata": {},
   "outputs": [
    {
     "name": "stdout",
     "output_type": "stream",
     "text": [
      "Best Criterion: {'criterion': 'gini', 'max_depth': 4, 'min_samples_leaf': 10, 'min_samples_split': 2, 'splitter': 'best'}\n",
      "\n",
      "[0.6239547  0.62642967 0.62611565]\n",
      "\n",
      "0.6255000076955649\n",
      "\n",
      "0.001100191565396955\n"
     ]
    }
   ],
   "source": [
    "\n",
    "# Assign the Classifier\n",
    "classifier= DecisionTreeClassifier()\n",
    "\n",
    "   \n",
    "# Set up a dictionary of parameters that we want to tune\n",
    "grid_param = {\n",
    "        'criterion': ['gini', 'entropy'],\n",
    "        'max_depth': [2,3,4,5],\n",
    "        'min_samples_split': [2, 5, 10, 15, 100],\n",
    "        'min_samples_leaf': [1, 2, 5, 10], \n",
    "        'splitter': ['best','random']\n",
    "        }\n",
    "\n",
    "\n",
    "# Perform Grid search with the parameters\n",
    "clf = GridSearchCV(estimator=classifier,\n",
    "                   param_grid=grid_param,\n",
    "                   scoring='accuracy',\n",
    "                   cv=5,\n",
    "                   n_jobs=-1)\n",
    "\n",
    "# Fit the grid search\n",
    "clf.fit(X_train, y_train)\n",
    "\n",
    "# View The Best Parameters\n",
    "print('Best Criterion:', clf.best_params_)\n",
    "\n",
    "\n",
    "# Use Cross Validation To Evaluate Model\n",
    "CV_Result = cross_val_score(clf, X_disc,y, cv=3, n_jobs=-1)\n",
    "print(); print(CV_Result)\n",
    "print(); print(CV_Result.mean())\n",
    "print(); print(CV_Result.std())"
   ]
  },
  {
   "cell_type": "markdown",
   "metadata": {},
   "source": [
    "### 62.5% accuracy on Cross Validated data"
   ]
  },
  {
   "cell_type": "markdown",
   "metadata": {},
   "source": [
    "### 9. Predict test data using the new hyperparameters"
   ]
  },
  {
   "cell_type": "code",
   "execution_count": 14,
   "metadata": {},
   "outputs": [
    {
     "name": "stdout",
     "output_type": "stream",
     "text": [
      "              precision    recall  f1-score   support\n",
      "\n",
      "           1       0.39      0.25      0.30      4800\n",
      "           2       0.90      1.00      0.95      6000\n",
      "           3       0.53      0.22      0.31      5400\n",
      "           4       0.54      0.84      0.66      7800\n",
      "\n",
      "    accuracy                           0.62     24000\n",
      "   macro avg       0.59      0.58      0.55     24000\n",
      "weighted avg       0.60      0.62      0.58     24000\n",
      "\n",
      "Accuracy: 0.621375\n",
      "Confusion matrix:\n",
      " [[1184    0 1030 2586]\n",
      " [   0 6000    0    0]\n",
      " [1012  238 1179 2971]\n",
      " [ 804  446    0 6550]]\n"
     ]
    }
   ],
   "source": [
    "algo=DecisionTreeClassifier(criterion='gini',\n",
    "                              max_depth=4, \n",
    "                              min_samples_leaf=10,\n",
    "                              min_samples_split=2,\n",
    "                              splitter='best')\n",
    "model = algo.fit(X_train,y_train)\n",
    "\n",
    "y_pred = model.predict(X_test)\n",
    "\n",
    "\n",
    "# Assess the performance of the model on test data\n",
    "print(classification_report(y_test, y_pred))\n",
    "print(\"Accuracy:\",accuracy_score(y_test, y_pred))\n",
    "print(\"Confusion matrix:\\n\" ,confusion_matrix(y_test, y_pred))"
   ]
  },
  {
   "cell_type": "markdown",
   "metadata": {},
   "source": [
    "### 62.1% accuracy on test data. There is a slight improvement in accuracy after tuning"
   ]
  }
 ],
 "metadata": {
  "kernelspec": {
   "display_name": "Python 3",
   "language": "python",
   "name": "python3"
  },
  "language_info": {
   "codemirror_mode": {
    "name": "ipython",
    "version": 3
   },
   "file_extension": ".py",
   "mimetype": "text/x-python",
   "name": "python",
   "nbconvert_exporter": "python",
   "pygments_lexer": "ipython3",
   "version": "3.8.1"
  }
 },
 "nbformat": 4,
 "nbformat_minor": 4
}
